{
 "cells": [
  {
   "cell_type": "markdown",
   "id": "3450cd21",
   "metadata": {},
   "source": [
    "# AgriVerse Backend Test Notebook\n",
    "This notebook demonstrates the complete workflow of the backend system."
   ]
  },
  {
   "cell_type": "code",
   "execution_count": 7,
   "id": "6d859e28",
   "metadata": {},
   "outputs": [
    {
     "name": "stdout",
     "output_type": "stream",
     "text": [
      "Testing data ingestion...\n",
      "Moved 1 PDFs to processed/\n",
      "   region  rainfall  temperature\n",
      "0  Punjab        20           30\n",
      "    crop  price         unit\n",
      "0  Wheat   2500  INR/Quintal\n",
      "                  policy                             details\n",
      "0  Minimum Support Price  Government MSP for Wheat: INR 2275\n",
      "    crop moisture_need  region\n",
      "0  Wheat      Moderate  Punjab\n"
     ]
    }
   ],
   "source": [
    "# Test the data ingestion pipeline\n",
    "from ingestion.pdf_ingestor import load_pdfs\n",
    "from ingestion.weather_ingestor import load_weather_data\n",
    "from ingestion.market_ingestor import load_market_data\n",
    "from ingestion.policy_ingestor import load_policy_data\n",
    "from ingestion.crop_ingestor import load_crop_data\n",
    "\n",
    "print(\"Testing data ingestion...\")\n",
    "print(load_pdfs())\n",
    "print(load_weather_data())\n",
    "print(load_market_data())\n",
    "print(load_policy_data())\n",
    "print(load_crop_data())"
   ]
  },
  {
   "cell_type": "code",
   "execution_count": 6,
   "id": "0fcceede",
   "metadata": {},
   "outputs": [
    {
     "name": "stdout",
     "output_type": "stream",
     "text": [
      "Modules reloaded successfully!\n"
     ]
    }
   ],
   "source": [
    "# Reload modules to pick up changes\n",
    "import importlib\n",
    "import sys\n",
    "sys.path.append('..')\n",
    "\n",
    "# Import and reload all modules\n",
    "import ingestion.pdf_ingestor\n",
    "import ingestion.weather_ingestor  \n",
    "import ingestion.market_ingestor\n",
    "import ingestion.policy_ingestor\n",
    "import ingestion.crop_ingestor\n",
    "\n",
    "importlib.reload(ingestion.pdf_ingestor)\n",
    "importlib.reload(ingestion.weather_ingestor)\n",
    "importlib.reload(ingestion.market_ingestor)\n",
    "importlib.reload(ingestion.policy_ingestor)\n",
    "importlib.reload(ingestion.crop_ingestor)\n",
    "\n",
    "print(\"Modules reloaded successfully!\")"
   ]
  },
  {
   "cell_type": "code",
   "execution_count": 8,
   "id": "d5a52d17",
   "metadata": {},
   "outputs": [
    {
     "name": "stdout",
     "output_type": "stream",
     "text": [
      "Creating embeddings...\n"
     ]
    },
    {
     "name": "stderr",
     "output_type": "stream",
     "text": [
      "/home/ilesh-dhall/AgriVerse-Capital-One-Launchpad-2025-Hackathon/backend/notebooks/../embedding/embed_manager.py:31: LangChainDeprecationWarning: The class `HuggingFaceEmbeddings` was deprecated in LangChain 0.2.2 and will be removed in 1.0. An updated version of the class exists in the :class:`~langchain-huggingface package and should be used instead. To use it run `pip install -U :class:`~langchain-huggingface` and import as `from :class:`~langchain_huggingface import HuggingFaceEmbeddings``.\n",
      "  embeddings = HuggingFaceEmbeddings(\n",
      "/home/ilesh-dhall/AgriVerse-Capital-One-Launchpad-2025-Hackathon/venv/lib/python3.12/site-packages/tqdm/auto.py:21: TqdmWarning: IProgress not found. Please update jupyter and ipywidgets. See https://ipywidgets.readthedocs.io/en/stable/user_install.html\n",
      "  from .autonotebook import tqdm as notebook_tqdm\n",
      "/home/ilesh-dhall/AgriVerse-Capital-One-Launchpad-2025-Hackathon/venv/lib/python3.12/site-packages/tqdm/auto.py:21: TqdmWarning: IProgress not found. Please update jupyter and ipywidgets. See https://ipywidgets.readthedocs.io/en/stable/user_install.html\n",
      "  from .autonotebook import tqdm as notebook_tqdm\n",
      "/home/ilesh-dhall/AgriVerse-Capital-One-Launchpad-2025-Hackathon/venv/lib/python3.12/site-packages/torch/nn/modules/module.py:1762: FutureWarning: `encoder_attention_mask` is deprecated and will be removed in version 4.55.0 for `BertSdpaSelfAttention.forward`.\n",
      "  return forward_call(*args, **kwargs)\n",
      "/home/ilesh-dhall/AgriVerse-Capital-One-Launchpad-2025-Hackathon/venv/lib/python3.12/site-packages/torch/nn/modules/module.py:1762: FutureWarning: `encoder_attention_mask` is deprecated and will be removed in version 4.55.0 for `BertSdpaSelfAttention.forward`.\n",
      "  return forward_call(*args, **kwargs)\n"
     ]
    },
    {
     "name": "stdout",
     "output_type": "stream",
     "text": [
      "Embeddings created successfully!\n"
     ]
    },
    {
     "name": "stderr",
     "output_type": "stream",
     "text": [
      "/home/ilesh-dhall/AgriVerse-Capital-One-Launchpad-2025-Hackathon/backend/notebooks/../embedding/embed_manager.py:46: LangChainDeprecationWarning: Since Chroma 0.4.x the manual persistence method is no longer supported as docs are automatically persisted.\n",
      "  db.persist()\n"
     ]
    }
   ],
   "source": [
    "# Test embedding creation\n",
    "from embedding.embed_manager import create_embeddings\n",
    "\n",
    "print(\"Creating embeddings...\")\n",
    "db = create_embeddings()\n",
    "print(\"Embeddings created successfully!\")"
   ]
  },
  {
   "cell_type": "code",
   "execution_count": 9,
   "id": "37e801ba",
   "metadata": {},
   "outputs": [
    {
     "name": "stdout",
     "output_type": "stream",
     "text": [
      "Query: 'Should I irrigate my wheat field?' -> Type: irrigation\n",
      "Query: 'What's the current market price for rice?' -> Type: market\n",
      "Query: 'What's the weather like today?' -> Type: weather\n",
      "Query: 'My crops have a disease problem' -> Type: problem\n",
      "Query: 'How to grow better tomatoes?' -> Type: general\n"
     ]
    }
   ],
   "source": [
    "# Test query routing\n",
    "from retrieval.query_router import route_query\n",
    "\n",
    "test_queries = [\n",
    "    \"Should I irrigate my wheat field?\",\n",
    "    \"What's the current market price for rice?\",\n",
    "    \"What's the weather like today?\",\n",
    "    \"My crops have a disease problem\",\n",
    "    \"How to grow better tomatoes?\"\n",
    "]\n",
    "\n",
    "for query in test_queries:\n",
    "    query_type = route_query(query)\n",
    "    print(f\"Query: '{query}' -> Type: {query_type}\")"
   ]
  },
  {
   "cell_type": "code",
   "execution_count": 10,
   "id": "b6832a0f",
   "metadata": {},
   "outputs": [
    {
     "name": "stdout",
     "output_type": "stream",
     "text": [
      "Testing complete workflow...\n"
     ]
    },
    {
     "name": "stderr",
     "output_type": "stream",
     "text": [
      "/home/ilesh-dhall/AgriVerse-Capital-One-Launchpad-2025-Hackathon/backend/notebooks/../retrieval/vector_retriever.py:18: LangChainDeprecationWarning: The class `Chroma` was deprecated in LangChain 0.2.9 and will be removed in 1.0. An updated version of the class exists in the :class:`~langchain-chroma package and should be used instead. To use it run `pip install -U :class:`~langchain-chroma` and import as `from :class:`~langchain_chroma import Chroma``.\n",
      "  db = Chroma(persist_directory=embeddings_dir, embedding_function=embeddings)\n",
      "/home/ilesh-dhall/AgriVerse-Capital-One-Launchpad-2025-Hackathon/venv/lib/python3.12/site-packages/torch/nn/modules/module.py:1762: FutureWarning: `encoder_attention_mask` is deprecated and will be removed in version 4.55.0 for `BertSdpaSelfAttention.forward`.\n",
      "  return forward_call(*args, **kwargs)\n",
      "/home/ilesh-dhall/AgriVerse-Capital-One-Launchpad-2025-Hackathon/backend/notebooks/../reasoning/decision_engine.py:13: LangChainDeprecationWarning: The method `BaseChatModel.predict` was deprecated in langchain-core 0.1.7 and will be removed in 1.0. Use :meth:`~invoke` instead.\n",
      "  return llm.predict(prompt)\n"
     ]
    },
    {
     "name": "stdout",
     "output_type": "stream",
     "text": [
      "Query: Should I water my wheat crop today?\n",
      "Response: The provided text gives general information about crop management and fertilizer use in Punjab, but lacks crucial details for specific irrigation advice.  The weather data (28°C, 15mm rainfall, 65% humidity) indicates moderately warm conditions with some rainfall.  However,  we need the following information to give precise irrigation recommendations:\n",
      "\n",
      "* **Specific Crop Stage:**  The report mentions soybean and wheat, but at what growth stage are these crops? Irrigation needs vary drastically depending on the growth stage (e.g., seedling, flowering, grain filling).\n",
      "* **Soil Type:** Soil type significantly impacts water holding capacity. Sandy soils need more frequent but lighter irrigation than clay soils.\n",
      "* **Crop Water Requirements:**  The report mentions water productivity and split applications but doesn't provide the actual water requirements (e.g., in mm or inches) for soybean and wheat at different growth stages in Punjab's climate.\n",
      "* **Existing Soil Moisture:**  The 15mm of rainfall is helpful, but we don't know the pre-existing soil moisture level. A simple soil moisture test would be crucial.\n",
      "* **Irrigation Method:** The report mentions drip irrigation, but what method is actually being used (drip, furrow, sprinkler)? This will influence the application rate and efficiency.\n",
      "\n",
      "**Therefore, I cannot provide specific irrigation recommendations (1-4) without this missing information.**\n",
      "\n",
      "**General Guidelines (Until more data is available):**\n",
      "\n",
      "* **Assess Soil Moisture:**  Before making any irrigation decision, check the soil moisture at the root zone. A simple method is to dig a small hole and check the moisture level.\n",
      "* **Monitor Crop Appearance:**  Observe the crops for signs of water stress (wilting, leaf rolling).\n",
      "* **Use the 15mm Rainfall:**  The recent rainfall should reduce the immediate need for irrigation, but it's likely not enough for the entire growth cycle.\n",
      "* **Consult Local Experts:**  Contact local agricultural extension services or experienced farmers in Punjab for advice tailored to the specific crops, soil type, and current conditions. They will have the most accurate information on water requirements for the region.\n",
      "\n",
      "\n",
      "Once the missing information is provided, a more precise and helpful irrigation plan can be created.\n"
     ]
    }
   ],
   "source": [
    "# Test the complete agent chain\n",
    "from reasoning.agent_chain import process_query\n",
    "\n",
    "print(\"Testing complete workflow...\")\n",
    "test_query = \"Should I water my wheat crop today?\"\n",
    "response = process_query(test_query, region=\"Punjab\")\n",
    "print(f\"Query: {test_query}\")\n",
    "print(f\"Response: {response}\")"
   ]
  },
  {
   "cell_type": "code",
   "execution_count": 11,
   "id": "22ac264c",
   "metadata": {},
   "outputs": [
    {
     "name": "stdout",
     "output_type": "stream",
     "text": [
      "Weather data: Weather for Punjab: Temperature 28°C, Rainfall 15mm, Humidity 65%. Partly cloudy with chances of light rain\n",
      "Market prices: Current market price for Wheat: INR 2500/Quintal\n"
     ]
    }
   ],
   "source": [
    "# Test API retrievers\n",
    "from retrieval.api_retriever import get_weather, get_market_prices\n",
    "\n",
    "print(\"Weather data:\", get_weather(\"Punjab\"))\n",
    "print(\"Market prices:\", get_market_prices(\"Wheat\"))"
   ]
  },
  {
   "cell_type": "code",
   "execution_count": 12,
   "id": "88a21542",
   "metadata": {},
   "outputs": [
    {
     "name": "stdout",
     "output_type": "stream",
     "text": [
      "Crop info for 'wheat irrigation requirements':\n",
      "Una district and Paonta \n",
      "Valley of Himachal \n",
      "Pradesh and Tarai \n",
      "region of Uttarakhand\n",
      "Suitable for restricted irrigation, timely sown condition, grain yield  \n",
      "51.8 q/ha, maturity 151 days, good biscuit spread factor (10.6), resistant \n",
      "to yellow rust, brown rust, wheat blast.\n",
      "Pusa  Harsha (HI 1655) Madhya Pradesh, \n",
      "Chhattisgarh, Gujarat, \n",
      "Kota and Udaipur \n",
      "Divisions of Rajasthan \n",
      "and Jhansi Division of \n",
      "Uttar Pradesh\n",
      "Suitable for restricted irrigation, timely sown condition, grain yield 38.8\n",
      "Rajasthan (except \n",
      "Kota and Udaipur \n",
      "division) and Western \n",
      "Uttar Pradesh (except \n",
      "Jhansi division), parts \n",
      "of Jammu and Kashmir \n",
      "(Jammu and Kathua \n",
      "distt.) and parts of \n",
      "Himachal Pradesh \n",
      "(Una distt. and Paonta \n",
      "Valley) and Uttarakhand \n",
      "(Tarai region)\n",
      "Suitable for irrigated, early sown, high fertility condition, grain yield  \n",
      "75.9 q/ha, maturity 150 days, biofortified wheat variety with high protein \n",
      "(12.2%), high iron (44.9 ppm), low phenol (2.8), resistant to brown rust.\n"
     ]
    },
    {
     "name": "stderr",
     "output_type": "stream",
     "text": [
      "/home/ilesh-dhall/AgriVerse-Capital-One-Launchpad-2025-Hackathon/venv/lib/python3.12/site-packages/torch/nn/modules/module.py:1762: FutureWarning: `encoder_attention_mask` is deprecated and will be removed in version 4.55.0 for `BertSdpaSelfAttention.forward`.\n",
      "  return forward_call(*args, **kwargs)\n"
     ]
    }
   ],
   "source": [
    "# Test vector retrieval\n",
    "from retrieval.vector_retriever import get_crop_info\n",
    "\n",
    "crop_query = \"wheat irrigation requirements\"\n",
    "crop_info = get_crop_info(crop_query)\n",
    "print(f\"Crop info for '{crop_query}':\")\n",
    "print(crop_info)"
   ]
  }
 ],
 "metadata": {
  "kernelspec": {
   "display_name": "venv",
   "language": "python",
   "name": "python3"
  },
  "language_info": {
   "codemirror_mode": {
    "name": "ipython",
    "version": 3
   },
   "file_extension": ".py",
   "mimetype": "text/x-python",
   "name": "python",
   "nbconvert_exporter": "python",
   "pygments_lexer": "ipython3",
   "version": "3.12.3"
  }
 },
 "nbformat": 4,
 "nbformat_minor": 5
}
