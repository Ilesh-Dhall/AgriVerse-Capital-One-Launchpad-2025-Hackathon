{
 "cells": [
  {
   "cell_type": "code",
   "execution_count": 9,
   "id": "24e684a0",
   "metadata": {},
   "outputs": [],
   "source": [
    "from langchain.document_loaders import PyPDFLoader\n",
    "from langchain.text_splitter import RecursiveCharacterTextSplitter\n",
    "from langchain.vectorstores import Chroma\n",
    "from langchain.chains import RetrievalQA\n",
    "from langchain_ollama import ChatOllama, OllamaEmbeddings\n",
    "from langchain.agents import initialize_agent, Tool"
   ]
  },
  {
   "cell_type": "code",
   "execution_count": 10,
   "id": "aa17ea21",
   "metadata": {},
   "outputs": [],
   "source": [
    "loader = PyPDFLoader(\"data/ICAR Annual Report 2023-24-english.pdf\")\n",
    "documents = loader.load()\n",
    "splitter = RecursiveCharacterTextSplitter(chunk_size = 500, chunk_overlap = 100)\n",
    "docs = splitter.split_documents(documents)"
   ]
  },
  {
   "cell_type": "code",
   "execution_count": 11,
   "id": "2f6bf133",
   "metadata": {},
   "outputs": [],
   "source": [
    "embeddings = OllamaEmbeddings(model=\"nomic-embed-text\")"
   ]
  },
  {
   "cell_type": "code",
   "execution_count": 14,
   "id": "d2632e3a",
   "metadata": {},
   "outputs": [],
   "source": [
    "vectorstore = Chroma.from_documents(\n",
    "    docs,\n",
    "    embeddings,\n",
    "    persist_directory=\"./chroma_db_nomic\"\n",
    ")\n",
    "\n",
    "retriever = vectorstore.as_retriever()"
   ]
  },
  {
   "cell_type": "code",
   "execution_count": 15,
   "id": "584c1758",
   "metadata": {},
   "outputs": [],
   "source": [
    "llm = ChatOllama(model=\"llama3.2\", temperature=0)"
   ]
  },
  {
   "cell_type": "code",
   "execution_count": 16,
   "id": "2dd43b76",
   "metadata": {},
   "outputs": [],
   "source": [
    "rag_chain = RetrievalQA.from_chain_type(\n",
    "    llm=llm,\n",
    "    retriever=retriever,\n",
    "    chain_type=\"stuff\"\n",
    ")"
   ]
  },
  {
   "cell_type": "code",
   "execution_count": 17,
   "id": "2bf71cce",
   "metadata": {},
   "outputs": [
    {
     "name": "stderr",
     "output_type": "stream",
     "text": [
      "/tmp/ipykernel_6294/223886074.py:2: LangChainDeprecationWarning: The method `Chain.run` was deprecated in langchain 0.1.0 and will be removed in 1.0. Use :meth:`~invoke` instead.\n",
      "  print(\"Answer:\", rag_chain.run(query))\n"
     ]
    },
    {
     "name": "stdout",
     "output_type": "stream",
     "text": [
      "Answer: I don't know, but I can try to help you brainstorm some potential solutions.\n",
      "\n",
      "Based on the text, it seems like there are some climate-smart interventions that have been identified for rice crops in your region. These include:\n",
      "\n",
      "* Rice Puddling with N 120 kg and P 2O5\n",
      "* Using a consortium of four bacteria to improve germination, vegetative growth, and yield under low moisture conditions\n",
      "\n",
      "It's also mentioned that there are climate-smart options available for other crops like chickpea, wheat, soybean, and greengram.\n",
      "\n",
      "You may want to consider consulting with local experts or farmers who have experience with these interventions. They can provide more specific advice based on your region's climate and soil conditions.\n",
      "\n",
      "Additionally, you could try searching online for \"climate-smart rice farming\" or \"rice crop management in [your region]\" to see if there are any other resources available that might be helpful.\n",
      "\n",
      "I hope this helps! Let me know if you have any other questions.\n"
     ]
    }
   ],
   "source": [
    "query = \"my rice crop isn't growing well due to bad climate what to do?\"\n",
    "print(\"Answer:\", rag_chain.run(query))"
   ]
  },
  {
   "cell_type": "code",
   "execution_count": 18,
   "id": "40a12b9b",
   "metadata": {},
   "outputs": [],
   "source": [
    "def get_weather(query: str):\n",
    "    # Placeholder function\n",
    "    return \"Today's rainfall is 10mm, temperature is 28°C.\""
   ]
  },
  {
   "cell_type": "code",
   "execution_count": 19,
   "id": "707e7794",
   "metadata": {},
   "outputs": [
    {
     "name": "stderr",
     "output_type": "stream",
     "text": [
      "/tmp/ipykernel_6294/622660081.py:6: LangChainDeprecationWarning: LangChain agents will continue to be supported, but it is recommended for new use cases to be built with LangGraph. LangGraph offers a more flexible and full-featured framework for building agents, including support for tool-calling, persistence of state, and human-in-the-loop workflows. For details, refer to the `LangGraph documentation <https://langchain-ai.github.io/langgraph/>`_ as well as guides for `Migrating from AgentExecutor <https://python.langchain.com/docs/how_to/migrate_agent/>`_ and LangGraph's `Pre-built ReAct agent <https://langchain-ai.github.io/langgraph/how-tos/create-react-agent/>`_.\n",
      "  agent = initialize_agent(tools, llm, agent=\"zero-shot-react-description\", verbose=True)\n"
     ]
    },
    {
     "name": "stdout",
     "output_type": "stream",
     "text": [
      "\n",
      "\n",
      "\u001b[1m> Entering new AgentExecutor chain...\u001b[0m\n",
      "\u001b[32;1m\u001b[1;3mQuestion: Given today's rainfall, should I irrigate my wheat field?\n",
      "\n",
      "Action: Knowledge Base\n",
      "Action Input: \"irrigation\" and \"wheat field\"\u001b[0m\n",
      "Observation: \u001b[36;1m\u001b[1;3mI don't know the specific details about irrigation for a wheat field in the Tarai region. However, I can tell you that Nicra Pusa Wheat 3411 is a suitable variety for this region, with characteristics such as high iron content (40.6 ppm) and high sedimentation value (61.8 ml), making it resistant to yellow and brown rust.\u001b[0m\n",
      "Thought:\u001b[32;1m\u001b[1;3mQuestion: Given today's rainfall, should I irrigate my wheat field?\n",
      "\n",
      "Action: Knowledge Base\n",
      "Action Input: \"irrigation\" and \"wheat field\"\n",
      "\u001b[0m\n",
      "Observation: \u001b[36;1m\u001b[1;3mI don't know the answer to your question about \"irrigation\" and \"wheat field\". Can you provide more context or clarify what you are looking for? I'll do my best to help.\u001b[0m\n",
      "Thought:\u001b[32;1m\u001b[1;3mQuestion: Given today's rainfall, should I irrigate my wheat field?\n",
      "\n",
      "Thought: Question: Given today's rainfall, should I irrigate my wheat field?\n",
      "\n",
      "Action: Knowledge Base\n",
      "Action Input: \"irrigation\" and \"wheat field\"\u001b[0m\n",
      "Observation: \u001b[36;1m\u001b[1;3mI don't know the specific details about irrigation for a wheat field in the Tarai region. However, I can tell you that Nicra Pusa Wheat 3411 is a suitable variety for this region, with characteristics such as high iron content (40.6 ppm) and high sedimentation value (61.8 ml), making it resistant to yellow and brown rust.\u001b[0m\n",
      "Thought:\u001b[32;1m\u001b[1;3mQuestion: Given today's rainfall, should I irrigate my wheat field?\n",
      "Thought: Question: Given today's rainfall, should I irrigate my wheat field?\n",
      "\n",
      "Action: Knowledge Base\n",
      "Action Input: \"irrigation\" and \"wheat field\"\u001b[0m\n",
      "Observation: \u001b[36;1m\u001b[1;3mI don't know the specific details about irrigation for a wheat field in the Tarai region. However, I can tell you that Nicra Pusa Wheat 3411 is a suitable variety for this region, with characteristics such as high iron content (40.6 ppm) and high sedimentation value (61.8 ml), making it resistant to yellow and brown rust.\u001b[0m\n",
      "Thought:\u001b[32;1m\u001b[1;3mQuestion: Given today's rainfall, should I irrigate my wheat field?\n",
      "Thought: Question: Given today's rainfall, should I irrigate my wheat field?\n",
      "\n",
      "Action: Knowledge Base\n",
      "Action Input: \"irrigation\" and \"wheat field\"\u001b[0m\n",
      "Observation: \u001b[36;1m\u001b[1;3mI don't know the specific details about irrigation for a wheat field in the Tarai region. However, I can tell you that Nicra Pusa Wheat 3411 is a suitable variety for this region, with characteristics such as high iron content (40.6 ppm) and high sedimentation value (61.8 ml), making it resistant to yellow and brown rust.\u001b[0m\n",
      "Thought:\u001b[32;1m\u001b[1;3mQuestion: Given today's rainfall, should I irrigate my wheat field?\n",
      "Thought: Question: Given today's rainfall, should I irrigate my wheat field?\n",
      "\n",
      "Action: Knowledge Base\n",
      "Action Input: \"irrigation\" and \"wheat field\"\u001b[0m\n",
      "Observation: \u001b[36;1m\u001b[1;3mI don't know the specific details about irrigation for a wheat field in the Tarai region. However, I can tell you that Nicra Pusa Wheat 3411 is a suitable variety for this region, with characteristics such as high iron content (40.6 ppm) and high sedimentation value (61.8 ml), making it resistant to yellow and brown rust.\u001b[0m\n",
      "Thought:\u001b[32;1m\u001b[1;3mQuestion: Given today's rainfall, should I irrigate my wheat field?\n",
      "Thought: Question: Given today's rainfall, should I irrigate my wheat field?\n",
      "\n",
      "Action: Knowledge Base\n",
      "Action Input: \"irrigation\" and \"wheat field\"\u001b[0m\n",
      "Observation: \u001b[36;1m\u001b[1;3mI don't know the specific details about irrigation for a wheat field in the Tarai region. However, I can tell you that Nicra Pusa Wheat 3411 is a suitable variety for this region, with characteristics such as high iron content (40.6 ppm) and high sedimentation value (61.8 ml), making it resistant to yellow and brown rust.\u001b[0m\n",
      "Thought:\u001b[32;1m\u001b[1;3mQuestion: Given today's rainfall, should I irrigate my wheat field?\n",
      "\n",
      "Thought: Question: Given today's rainfall, should I irrigate my wheat field?\n",
      "\n",
      "Action: Knowledge Base\n",
      "Action Input: \"irrigation\" and \"wheat field\"\u001b[0m\n",
      "Observation: \u001b[36;1m\u001b[1;3mI don't know the specific details about irrigation for a wheat field in the Tarai region. However, I can tell you that Nicra Pusa Wheat 3411 is a suitable variety for this region, with characteristics such as high iron content (40.6 ppm) and high sedimentation value (61.8 ml), making it resistant to yellow and brown rust.\u001b[0m\n",
      "Thought:\u001b[32;1m\u001b[1;3mQuestion: Given today's rainfall, should I irrigate my wheat field?\n",
      "\n",
      "Thought: Question: Given today's rainfall, should I irrigate my wheat field?\n",
      "\n",
      "Action: Knowledge Base\n",
      "Action Input: \"irrigation\" and \"wheat field\"\u001b[0m\n",
      "Observation: \u001b[36;1m\u001b[1;3mI don't know the specific details about irrigation for a wheat field in the Tarai region. However, I can tell you that Nicra Pusa Wheat 3411 is a suitable variety for this region, with characteristics such as high iron content (40.6 ppm) and high sedimentation value (61.8 ml), making it resistant to yellow and brown rust.\u001b[0m\n",
      "Thought:\u001b[32;1m\u001b[1;3mQuestion: Given today's rainfall, should I irrigate my wheat field?\n",
      "\n",
      "Thought: Question: Given today's rainfall, should I irrigate my wheat field?\n",
      "\n",
      "Action: Knowledge Base\n",
      "Action Input: \"irrigation\" and \"wheat field\"\u001b[0m\n",
      "Observation: \u001b[36;1m\u001b[1;3mI don't know the specific details about irrigation for a wheat field in the Tarai region. However, I can tell you that Nicra Pusa Wheat 3411 is a suitable variety for this region, with characteristics such as high iron content (40.6 ppm) and high sedimentation value (61.8 ml), making it resistant to yellow and brown rust.\u001b[0m\n",
      "Thought:\u001b[32;1m\u001b[1;3mQuestion: Given today's rainfall, should I irrigate my wheat field?\n",
      "\n",
      "Thought: Question: Given today's rainfall, should I irrigate my wheat field?\n",
      "\n",
      "Action: Knowledge Base\n",
      "Action Input: \"irrigation\" and \"wheat field\"\u001b[0m\n",
      "Observation: \u001b[36;1m\u001b[1;3mI don't know the specific details about irrigation for a wheat field in the Tarai region. However, I can tell you that Nicra Pusa Wheat 3411 is a suitable variety for this region, with characteristics such as high iron content (40.6 ppm) and high sedimentation value (61.8 ml), making it resistant to yellow and brown rust.\u001b[0m\n",
      "Thought:\u001b[32;1m\u001b[1;3mQuestion: Given today's rainfall, should I irrigate my wheat field?\n",
      "\n",
      "Thought: Question: Given today's rainfall, should I irrigate my wheat field?\n",
      "\n",
      "Action: Knowledge Base\n",
      "Action Input: \"irrigation\" and \"wheat field\"\u001b[0m\n",
      "Observation: \u001b[36;1m\u001b[1;3mI don't know the specific details about irrigation for a wheat field in the Tarai region. However, I can tell you that Nicra Pusa Wheat 3411 is a suitable variety for this region, with characteristics such as high iron content (40.6 ppm) and high sedimentation value (61.8 ml), making it resistant to yellow and brown rust.\u001b[0m\n",
      "Thought:\u001b[32;1m\u001b[1;3mQuestion: Given today's rainfall, should I irrigate my wheat field?\n",
      "\n",
      "Thought: Question: Given today's rainfall, should I irrigate my wheat field?\n",
      "\n",
      "Action: Knowledge Base\n",
      "Action Input: \"irrigation\" and \"wheat field\"\u001b[0m\n",
      "Observation: \u001b[36;1m\u001b[1;3mI don't know the specific details about irrigation for a wheat field in the Tarai region. However, I can tell you that Nicra Pusa Wheat 3411 is a suitable variety for this region, with characteristics such as high iron content (40.6 ppm) and high sedimentation value (61.8 ml), making it resistant to yellow and brown rust.\u001b[0m\n",
      "Thought:\u001b[32;1m\u001b[1;3mQuestion: Given today's rainfall, should I irrigate my wheat field?\n",
      "\n",
      "Thought: Question: Given today's rainfall, should I irrigate my wheat field?\n",
      "\n",
      "Action: Knowledge Base\n",
      "Action Input: \"irrigation\" and \"wheat field\"\u001b[0m\n",
      "Observation: \u001b[36;1m\u001b[1;3mI don't know the specific details about irrigation for a wheat field in the Tarai region. However, I can tell you that Nicra Pusa Wheat 3411 is a suitable variety for this region, with characteristics such as high iron content (40.6 ppm) and high sedimentation value (61.8 ml), making it resistant to yellow and brown rust.\u001b[0m\n",
      "Thought:\u001b[32;1m\u001b[1;3mQuestion: Given today's rainfall, should I irrigate my wheat field?\n",
      "\n",
      "Thought: Question: Given today's rainfall, should I irrigate my wheat field?\n",
      "\n",
      "Action: Knowledge Base\n",
      "Action Input: \"irrigation\" and \"wheat field\"\u001b[0m\n",
      "Observation: \u001b[36;1m\u001b[1;3mI don't know the specific details about irrigation for a wheat field in the Tarai region. However, I can tell you that Nicra Pusa Wheat 3411 is a suitable variety for this region, with characteristics such as high iron content (40.6 ppm) and high sedimentation value (61.8 ml), making it resistant to yellow and brown rust.\u001b[0m\n",
      "Thought:\u001b[32;1m\u001b[1;3m\u001b[0m\n",
      "\n",
      "\u001b[1m> Finished chain.\u001b[0m\n"
     ]
    },
    {
     "data": {
      "text/plain": [
       "'Agent stopped due to iteration limit or time limit.'"
      ]
     },
     "execution_count": 19,
     "metadata": {},
     "output_type": "execute_result"
    }
   ],
   "source": [
    "tools = [\n",
    "    Tool(name=\"Knowledge Base\", func=rag_chain.run, description=\"Look up agricultural advice\"),\n",
    "    Tool(name=\"Weather API\", func=get_weather, description=\"Fetch latest weather data\"),\n",
    "]\n",
    "\n",
    "agent = initialize_agent(tools, llm, agent=\"zero-shot-react-description\", verbose=True)\n",
    "agent.run(\"Given today's rainfall, should I irrigate my wheat field?\")"
   ]
  }
 ],
 "metadata": {
  "kernelspec": {
   "display_name": "venv",
   "language": "python",
   "name": "python3"
  },
  "language_info": {
   "codemirror_mode": {
    "name": "ipython",
    "version": 3
   },
   "file_extension": ".py",
   "mimetype": "text/x-python",
   "name": "python",
   "nbconvert_exporter": "python",
   "pygments_lexer": "ipython3",
   "version": "3.12.3"
  }
 },
 "nbformat": 4,
 "nbformat_minor": 5
}
