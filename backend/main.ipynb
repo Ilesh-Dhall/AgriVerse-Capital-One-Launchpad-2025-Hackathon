{
 "cells": [
  {
   "cell_type": "code",
   "execution_count": 2,
   "id": "d20a65d0",
   "metadata": {},
   "outputs": [],
   "source": [
    "from dotenv import load_dotenv\n",
    "import os\n",
    "\n",
    "load_dotenv()\n",
    "api_key = os.getenv(\"GOOGLE_API_KEY\")"
   ]
  },
  {
   "cell_type": "code",
   "execution_count": 3,
   "id": "a5a3fb3b",
   "metadata": {},
   "outputs": [
    {
     "name": "stderr",
     "output_type": "stream",
     "text": [
      "/home/ilesh-dhall/AgriVerse-Capital-One-Launchpad-2025-Hackathon/venv/lib/python3.12/site-packages/tqdm/auto.py:21: TqdmWarning: IProgress not found. Please update jupyter and ipywidgets. See https://ipywidgets.readthedocs.io/en/stable/user_install.html\n",
      "  from .autonotebook import tqdm as notebook_tqdm\n"
     ]
    }
   ],
   "source": [
    "from langchain.document_loaders import PyPDFLoader\n",
    "from langchain.text_splitter import RecursiveCharacterTextSplitter\n",
    "from langchain.embeddings import HuggingFaceEmbeddings\n",
    "from langchain.vectorstores import Chroma\n",
    "from langchain.chains import RetrievalQA\n",
    "from langchain_google_genai import ChatGoogleGenerativeAI"
   ]
  },
  {
   "cell_type": "code",
   "execution_count": 4,
   "id": "4da1cf9e",
   "metadata": {},
   "outputs": [],
   "source": [
    "loader = PyPDFLoader(\"data/ICAR Annual Report 2023-24-english.pdf\")\n",
    "documents = loader.load()\n",
    "splitter = RecursiveCharacterTextSplitter(chunk_size=500, chunk_overlap=100)\n",
    "docs = splitter.split_documents(documents)"
   ]
  },
  {
   "cell_type": "code",
   "execution_count": 5,
   "id": "f1b16253",
   "metadata": {},
   "outputs": [
    {
     "name": "stderr",
     "output_type": "stream",
     "text": [
      "/tmp/ipykernel_37753/3409896792.py:1: LangChainDeprecationWarning: The class `HuggingFaceEmbeddings` was deprecated in LangChain 0.2.2 and will be removed in 1.0. An updated version of the class exists in the :class:`~langchain-huggingface package and should be used instead. To use it run `pip install -U :class:`~langchain-huggingface` and import as `from :class:`~langchain_huggingface import HuggingFaceEmbeddings``.\n",
      "  embeddings = HuggingFaceEmbeddings(model_name=\"sentence-transformers/all-MiniLM-L6-v2\")\n"
     ]
    }
   ],
   "source": [
    "embeddings = HuggingFaceEmbeddings(model_name=\"sentence-transformers/all-MiniLM-L6-v2\")"
   ]
  },
  {
   "cell_type": "code",
   "execution_count": 6,
   "id": "b2772c5e",
   "metadata": {},
   "outputs": [
    {
     "name": "stderr",
     "output_type": "stream",
     "text": [
      "/home/ilesh-dhall/AgriVerse-Capital-One-Launchpad-2025-Hackathon/venv/lib/python3.12/site-packages/torch/nn/modules/module.py:1762: FutureWarning: `encoder_attention_mask` is deprecated and will be removed in version 4.55.0 for `BertSdpaSelfAttention.forward`.\n",
      "  return forward_call(*args, **kwargs)\n"
     ]
    }
   ],
   "source": [
    "vectorstore = Chroma.from_documents(docs, embeddings, persist_directory=\"./chroma_db\")\n",
    "retriever = vectorstore.as_retriever()"
   ]
  },
  {
   "cell_type": "code",
   "execution_count": 7,
   "id": "bafceb22",
   "metadata": {},
   "outputs": [],
   "source": [
    "llm = ChatGoogleGenerativeAI(model=\"gemini-1.5-flash\", temperature=0)"
   ]
  },
  {
   "cell_type": "code",
   "execution_count": 8,
   "id": "f32c12a0",
   "metadata": {},
   "outputs": [],
   "source": [
    "rag_chain = RetrievalQA.from_chain_type(\n",
    "    llm=llm,\n",
    "    retriever=retriever,\n",
    "    chain_type=\"stuff\"\n",
    ")"
   ]
  },
  {
   "cell_type": "code",
   "execution_count": 9,
   "id": "d192a18d",
   "metadata": {},
   "outputs": [
    {
     "name": "stderr",
     "output_type": "stream",
     "text": [
      "/tmp/ipykernel_37753/223886074.py:2: LangChainDeprecationWarning: The method `Chain.run` was deprecated in langchain 0.1.0 and will be removed in 1.0. Use :meth:`~invoke` instead.\n",
      "  print(\"Answer:\", rag_chain.run(query))\n",
      "/home/ilesh-dhall/AgriVerse-Capital-One-Launchpad-2025-Hackathon/venv/lib/python3.12/site-packages/torch/nn/modules/module.py:1762: FutureWarning: `encoder_attention_mask` is deprecated and will be removed in version 4.55.0 for `BertSdpaSelfAttention.forward`.\n",
      "  return forward_call(*args, **kwargs)\n"
     ]
    },
    {
     "name": "stdout",
     "output_type": "stream",
     "text": [
      "Answer: Based on the provided text, several climate-smart interventions for rice have been identified for the village Momanpur.  However, the specific interventions are not detailed.  I don't know what to recommend for your specific situation.\n"
     ]
    }
   ],
   "source": [
    "query = \"my rice crop isn't growing well due to bad climate what to do?\"\n",
    "print(\"Answer:\", rag_chain.run(query))"
   ]
  },
  {
   "cell_type": "code",
   "execution_count": 11,
   "id": "07f252dc",
   "metadata": {},
   "outputs": [],
   "source": [
    "def get_weather(query: str):\n",
    "    # Placeholder function\n",
    "    return \"Today's rainfall is 10mm, temperature is 28°C.\""
   ]
  },
  {
   "cell_type": "code",
   "execution_count": 12,
   "id": "9ebcdb72",
   "metadata": {},
   "outputs": [
    {
     "name": "stderr",
     "output_type": "stream",
     "text": [
      "/tmp/ipykernel_37753/3145563484.py:8: LangChainDeprecationWarning: LangChain agents will continue to be supported, but it is recommended for new use cases to be built with LangGraph. LangGraph offers a more flexible and full-featured framework for building agents, including support for tool-calling, persistence of state, and human-in-the-loop workflows. For details, refer to the `LangGraph documentation <https://langchain-ai.github.io/langgraph/>`_ as well as guides for `Migrating from AgentExecutor <https://python.langchain.com/docs/how_to/migrate_agent/>`_ and LangGraph's `Pre-built ReAct agent <https://langchain-ai.github.io/langgraph/how-tos/create-react-agent/>`_.\n",
      "  agent = initialize_agent(tools, llm, agent=\"zero-shot-react-description\", verbose=True)\n"
     ]
    },
    {
     "name": "stdout",
     "output_type": "stream",
     "text": [
      "\n",
      "\n",
      "\u001b[1m> Entering new AgentExecutor chain...\u001b[0m\n",
      "\u001b[32;1m\u001b[1;3mThought: I need to know today's rainfall to determine if irrigation is necessary.  I'll check the weather API for that information.\n",
      "\n",
      "Action: Weather API\n",
      "Action Input: \"rainfall today\"\u001b[0m\n",
      "Observation: \u001b[33;1m\u001b[1;3mToday's rainfall is 10mm, temperature is 28°C.\u001b[0m\n",
      "Thought:\u001b[32;1m\u001b[1;3mThought: I have the rainfall data. Now I need to determine if 10mm of rainfall is sufficient for my wheat field. I'll consult the knowledge base for wheat irrigation guidelines.\n",
      "\n",
      "Action: Knowledge Base\n",
      "Action Input: \"wheat irrigation guidelines, rainfall requirements\"\u001b[0m"
     ]
    },
    {
     "name": "stderr",
     "output_type": "stream",
     "text": [
      "/home/ilesh-dhall/AgriVerse-Capital-One-Launchpad-2025-Hackathon/venv/lib/python3.12/site-packages/torch/nn/modules/module.py:1762: FutureWarning: `encoder_attention_mask` is deprecated and will be removed in version 4.55.0 for `BertSdpaSelfAttention.forward`.\n",
      "  return forward_call(*args, **kwargs)\n"
     ]
    },
    {
     "name": "stdout",
     "output_type": "stream",
     "text": [
      "\n",
      "Observation: \u001b[36;1m\u001b[1;3mThe provided text mentions irrigation guidelines for wheat in a few regions.  For some varieties, it specifies \"restricted irrigation\" and \"timely sown condition\" as suitable conditions.  There's also mention of yields under rainfed (16-18 q/ha) and protective irrigation (22-24 q/ha) conditions in Karnataka's Eastern and Southern Dry Zones.  However,  specific rainfall requirements aren't detailed.\u001b[0m\n",
      "Thought:\u001b[32;1m\u001b[1;3mThought:The knowledge base doesn't give a precise rainfall amount needed to avoid irrigation.  The observation suggests that irrigation can increase yield, but doesn't state a threshold for when it's necessary. I need more information to give a definitive answer.  I'll try refining my knowledge base query.\n",
      "\n",
      "Action: Knowledge Base\n",
      "Action Input: \"wheat irrigation, 10mm rainfall sufficient?\"\u001b[0m"
     ]
    },
    {
     "name": "stderr",
     "output_type": "stream",
     "text": [
      "/home/ilesh-dhall/AgriVerse-Capital-One-Launchpad-2025-Hackathon/venv/lib/python3.12/site-packages/torch/nn/modules/module.py:1762: FutureWarning: `encoder_attention_mask` is deprecated and will be removed in version 4.55.0 for `BertSdpaSelfAttention.forward`.\n",
      "  return forward_call(*args, **kwargs)\n"
     ]
    },
    {
     "name": "stdout",
     "output_type": "stream",
     "text": [
      "\n",
      "Observation: \u001b[36;1m\u001b[1;3mI'm sorry, but I cannot answer this question.  The provided text gives information on Diggi-based irrigation systems and wheat yields in certain regions, but it does not contain information about whether 10mm of rainfall is sufficient for wheat irrigation.\u001b[0m\n",
      "Thought:\u001b[32;1m\u001b[1;3mThought:The knowledge base is insufficient to answer the question.  I can only provide a qualified answer based on the available information.\n",
      "\n",
      "Final Answer: Based on today's rainfall of 10mm and the lack of specific irrigation guidelines for wheat in the knowledge base, I cannot definitively say whether you should irrigate your wheat field.  10mm might be sufficient depending on factors like soil type, wheat variety, and existing soil moisture.  To make an informed decision, consult local agricultural experts or more detailed resources on wheat irrigation specific to your region and conditions.\u001b[0m\n",
      "\n",
      "\u001b[1m> Finished chain.\u001b[0m\n"
     ]
    },
    {
     "data": {
      "text/plain": [
       "\"Based on today's rainfall of 10mm and the lack of specific irrigation guidelines for wheat in the knowledge base, I cannot definitively say whether you should irrigate your wheat field.  10mm might be sufficient depending on factors like soil type, wheat variety, and existing soil moisture.  To make an informed decision, consult local agricultural experts or more detailed resources on wheat irrigation specific to your region and conditions.\""
      ]
     },
     "execution_count": 12,
     "metadata": {},
     "output_type": "execute_result"
    }
   ],
   "source": [
    "from langchain.agents import initialize_agent, Tool\n",
    "\n",
    "tools = [\n",
    "    Tool(name=\"Knowledge Base\", func=rag_chain.run, description=\"Look up agricultural advice\"),\n",
    "    Tool(name=\"Weather API\", func=get_weather, description=\"Fetch latest weather data\"),\n",
    "]\n",
    "\n",
    "agent = initialize_agent(tools, llm, agent=\"zero-shot-react-description\", verbose=True)\n",
    "agent.run(\"Given today's rainfall, should I irrigate my wheat field?\")\n"
   ]
  }
 ],
 "metadata": {
  "kernelspec": {
   "display_name": "venv",
   "language": "python",
   "name": "python3"
  },
  "language_info": {
   "codemirror_mode": {
    "name": "ipython",
    "version": 3
   },
   "file_extension": ".py",
   "mimetype": "text/x-python",
   "name": "python",
   "nbconvert_exporter": "python",
   "pygments_lexer": "ipython3",
   "version": "3.12.3"
  }
 },
 "nbformat": 4,
 "nbformat_minor": 5
}
